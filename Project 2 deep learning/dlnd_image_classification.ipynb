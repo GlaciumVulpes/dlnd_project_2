{
 "cells": [
  {
   "cell_type": "markdown",
   "metadata": {
    "collapsed": true
   },
   "source": [
    "# Image Classification\n",
    "In this project, you'll classify images from the [CIFAR-10 dataset](https://www.cs.toronto.edu/~kriz/cifar.html).  The dataset consists of airplanes, dogs, cats, and other objects. You'll preprocess the images, then train a convolutional neural network on all the samples. The images need to be normalized and the labels need to be one-hot encoded.  You'll get to apply what you learned and build a convolutional, max pooling, dropout, and fully connected layers.  At the end, you'll get to see your neural network's predictions on the sample images.\n",
    "## Get the Data\n",
    "Run the following cell to download the [CIFAR-10 dataset for python](https://www.cs.toronto.edu/~kriz/cifar-10-python.tar.gz)."
   ]
  },
  {
   "cell_type": "code",
   "execution_count": 2,
   "metadata": {
    "collapsed": false
   },
   "outputs": [
    {
     "name": "stdout",
     "output_type": "stream",
     "text": [
      "All files found!\n"
     ]
    }
   ],
   "source": [
    "\"\"\"\n",
    "DON'T MODIFY ANYTHING IN THIS CELL THAT IS BELOW THIS LINE\n",
    "\"\"\"\n",
    "from urllib.request import urlretrieve\n",
    "from os.path import isfile, isdir\n",
    "from tqdm import tqdm\n",
    "import problem_unittests as tests\n",
    "import tarfile\n",
    "\n",
    "cifar10_dataset_folder_path = 'cifar-10-batches-py'\n",
    "\n",
    "class DLProgress(tqdm):\n",
    "    last_block = 0\n",
    "\n",
    "    def hook(self, block_num=1, block_size=1, total_size=None):\n",
    "        self.total = total_size\n",
    "        self.update((block_num - self.last_block) * block_size)\n",
    "        self.last_block = block_num\n",
    "\n",
    "if not isfile('cifar-10-python.tar.gz'):\n",
    "    with DLProgress(unit='B', unit_scale=True, miniters=1, desc='CIFAR-10 Dataset') as pbar:\n",
    "        urlretrieve(\n",
    "            'https://www.cs.toronto.edu/~kriz/cifar-10-python.tar.gz',\n",
    "            'cifar-10-python.tar.gz',\n",
    "            pbar.hook)\n",
    "\n",
    "if not isdir(cifar10_dataset_folder_path):\n",
    "    with tarfile.open('cifar-10-python.tar.gz') as tar:\n",
    "        tar.extractall()\n",
    "        tar.close()\n",
    "\n",
    "\n",
    "tests.test_folder_path(cifar10_dataset_folder_path)"
   ]
  },
  {
   "cell_type": "markdown",
   "metadata": {},
   "source": [
    "## Explore the Data\n",
    "The dataset is broken into batches to prevent your machine from running out of memory.  The CIFAR-10 dataset consists of 5 batches, named `data_batch_1`, `data_batch_2`, etc.. Each batch contains the labels and images that are one of the following:\n",
    "* airplane\n",
    "* automobile\n",
    "* bird\n",
    "* cat\n",
    "* deer\n",
    "* dog\n",
    "* frog\n",
    "* horse\n",
    "* ship\n",
    "* truck\n",
    "\n",
    "Understanding a dataset is part of making predictions on the data.  Play around with the code cell below by changing the `batch_id` and `sample_id`. The `batch_id` is the id for a batch (1-5). The `sample_id` is the id for a image and label pair in the batch.\n",
    "\n",
    "Ask yourself \"What are all possible labels?\", \"What is the range of values for the image data?\", \"Are the labels in order or random?\".  Answers to questions like these will help you preprocess the data and end up with better predictions."
   ]
  },
  {
   "cell_type": "code",
   "execution_count": 3,
   "metadata": {
    "collapsed": false
   },
   "outputs": [
    {
     "name": "stdout",
     "output_type": "stream",
     "text": [
      "\n",
      "Stats of batch 1:\n",
      "Samples: 10000\n",
      "Label Counts: {0: 1005, 1: 974, 2: 1032, 3: 1016, 4: 999, 5: 937, 6: 1030, 7: 1001, 8: 1025, 9: 981}\n",
      "First 20 Labels: [6, 9, 9, 4, 1, 1, 2, 7, 8, 3, 4, 7, 7, 2, 9, 9, 9, 3, 2, 6]\n",
      "\n",
      "Example of Image 5:\n",
      "Image - Min Value: 0 Max Value: 252\n",
      "Image - Shape: (32, 32, 3)\n",
      "Label - Label Id: 1 Name: automobile\n"
     ]
    },
    {
     "data": {
      "image/png": "[encoded data removed]",
      "text/plain": [
       "<matplotlib.figure.Figure at 0x16d789e1c18>"
      ]
     },
     "metadata": {
      "image/png": {
       "height": 250,
       "width": 253
      }
     },
     "output_type": "display_data"
    }
   ],
   "source": [
    "%matplotlib inline\n",
    "%config InlineBackend.figure_format = 'retina'\n",
    "\n",
    "import helper\n",
    "import numpy as np\n",
    "\n",
    "# Explore the dataset\n",
    "batch_id = 1\n",
    "sample_id = 5\n",
    "helper.display_stats(cifar10_dataset_folder_path, batch_id, sample_id)"
   ]
  },
  {
   "cell_type": "markdown",
   "metadata": {},
   "source": [
    "## Implement Preprocess Functions\n",
    "### Normalize\n",
    "In the cell below, implement the `normalize` function to take in image data, `x`, and return it as a normalized Numpy array. The values should be in the range of 0 to 1, inclusive.  The return object should be the same shape as `x`."
   ]
  },
  {
   "cell_type": "code",
   "execution_count": 4,
   "metadata": {
    "collapsed": false
   },
   "outputs": [
    {
     "name": "stdout",
     "output_type": "stream",
     "text": [
      "Tests Passed\n"
     ]
    }
   ],
   "source": [
    "\n",
    "def normalize(x):\n",
    "    \"\"\"\n",
    "    Normalize a list of sample image data in the range of 0 to 1\n",
    "    : x: List of image data.  The image shape is (32, 32, 3)\n",
    "    : return: Numpy array of normalize data\n",
    "    \"\"\"\n",
    "    # TODO: Implement Function\n",
    "    return (x - np.amin(x)) / (np.amax(x) - np.amin(x))\n",
    "\"\"\"\n",
    "DON'T MODIFY ANYTHING IN THIS CELL THAT IS BELOW THIS LINE\n",
    "\"\"\"\n",
    "tests.test_normalize(normalize)"
   ]
  },
  {
   "cell_type": "markdown",
   "metadata": {},
   "source": [
    "### One-hot encode\n",
    "Just like the previous code cell, you'll be implementing a function for preprocessing.  This time, you'll implement the `one_hot_encode` function. The input, `x`, are a list of labels.  Implement the function to return the list of labels as One-Hot encoded Numpy array.  The possible values for labels are 0 to 9. The one-hot encoding function should return the same encoding for each value between each call to `one_hot_encode`.  Make sure to save the map of encodings outside the function.\n",
    "\n",
    "Hint: Don't reinvent the wheel."
   ]
  },
  {
   "cell_type": "code",
   "execution_count": 6,
   "metadata": {
    "collapsed": false
   },
   "outputs": [
    {
     "name": "stdout",
     "output_type": "stream",
     "text": [
      "Tests Passed\n"
     ]
    }
   ],
   "source": [
    "from mlxtend.preprocessing import one_hot\n",
    "def one_hot_encode(x):\n",
    "    \"\"\"\n",
    "    One hot encode a list of sample labels. Return a one-hot encoded vector for each label.\n",
    "    : x: List of sample Labels\n",
    "    : return: Numpy array of one-hot encoded labels\n",
    "    \"\"\"\n",
    "    # TODO: Implement Function\n",
    "    x = one_hot(x)\n",
    "    return x\n",
    "\n",
    "\"\"\"\n",
    "DON'T MODIFY ANYTHING IN THIS CELL THAT IS BELOW THIS LINE\n",
    "\"\"\"\n",
    "tests.test_one_hot_encode(one_hot_encode)"
   ]
  },
  {
   "cell_type": "markdown",
   "metadata": {},
   "source": [
    "### Randomize Data\n",
    "As you saw from exploring the data above, the order of the samples are randomized.  It doesn't hurt to randomize it again, but you don't need to for this dataset."
   ]
  },
  {
   "cell_type": "markdown",
   "metadata": {},
   "source": [
    "## Preprocess all the data and save it\n",
    "Running the code cell below will preprocess all the CIFAR-10 data and save it to file. The code below also uses 10% of the training data for validation."
   ]
  },
  {
   "cell_type": "code",
   "execution_count": 7,
   "metadata": {
    "collapsed": false
   },
   "outputs": [],
   "source": [
    "\"\"\"\n",
    "DON'T MODIFY ANYTHING IN THIS CELL\n",
    "\"\"\"\n",
    "# Preprocess Training, Validation, and Testing Data\n",
    "helper.preprocess_and_save_data(cifar10_dataset_folder_path, normalize, one_hot_encode)"
   ]
  },
  {
   "cell_type": "markdown",
   "metadata": {},
   "source": [
    "# Check Point\n",
    "This is your first checkpoint.  If you ever decide to come back to this notebook or have to restart the notebook, you can start from here.  The preprocessed data has been saved to disk."
   ]
  },
  {
   "cell_type": "code",
   "execution_count": 8,
   "metadata": {
    "collapsed": true
   },
   "outputs": [],
   "source": [
    "\"\"\"\n",
    "DON'T MODIFY ANYTHING IN THIS CELL\n",
    "\"\"\"\n",
    "import pickle\n",
    "import problem_unittests as tests\n",
    "import helper\n",
    "\n",
    "# Load the Preprocessed Validation data\n",
    "valid_features, valid_labels = pickle.load(open('preprocess_validation.p', mode='rb'))"
   ]
  },
  {
   "cell_type": "markdown",
   "metadata": {},
   "source": [
    "## Build the network\n",
    "For the neural network, you'll build each layer into a function.  Most of the code you've seen has been outside of functions. To test your code more thoroughly, we require that you put each layer in a function.  This allows us to give you better feedback and test for simple mistakes using our unittests before you submit your project.\n",
    "\n",
    "If you're finding it hard to dedicate enough time for this course a week, we've provided a small shortcut to this part of the project. In the next couple of problems, you'll have the option to use [TensorFlow Layers](https://www.tensorflow.org/api_docs/python/tf/layers) or [TensorFlow Layers (contrib)](https://www.tensorflow.org/api_guides/python/contrib.layers) to build each layer, except \"Convolutional & Max Pooling\" layer.  TF Layers is similar to Keras's and TFLearn's abstraction to layers, so it's easy to pickup.\n",
    "\n",
    "If you would like to get the most of this course, try to solve all the problems without TF Layers.  Let's begin!\n",
    "### Input\n",
    "The neural network needs to read the image data, one-hot encoded labels, and dropout keep probability. Implement the following functions\n",
    "* Implement `neural_net_image_input`\n",
    " * Return a [TF Placeholder](https://www.tensorflow.org/api_docs/python/tf/placeholder)\n",
    " * Set the shape using `image_shape` with batch size set to `None`.\n",
    " * Name the TensorFlow placeholder \"x\" using the TensorFlow `name` parameter in the [TF Placeholder](https://www.tensorflow.org/api_docs/python/tf/placeholder).\n",
    "* Implement `neural_net_label_input`\n",
    " * Return a [TF Placeholder](https://www.tensorflow.org/api_docs/python/tf/placeholder)\n",
    " * Set the shape using `n_classes` with batch size set to `None`.\n",
    " * Name the TensorFlow placeholder \"y\" using the TensorFlow `name` parameter in the [TF Placeholder](https://www.tensorflow.org/api_docs/python/tf/placeholder).\n",
    "* Implement `neural_net_keep_prob_input`\n",
    " * Return a [TF Placeholder](https://www.tensorflow.org/api_docs/python/tf/placeholder) for dropout keep probability.\n",
    " * Name the TensorFlow placeholder \"keep_prob\" using the TensorFlow `name` parameter in the [TF Placeholder](https://www.tensorflow.org/api_docs/python/tf/placeholder).\n",
    "\n",
    "These names will be used at the end of the project to load your saved model.\n",
    "\n",
    "Note: `None` for shapes in TensorFlow allow for a dynamic size."
   ]
  },
  {
   "cell_type": "code",
   "execution_count": 9,
   "metadata": {
    "collapsed": false
   },
   "outputs": [
    {
     "name": "stdout",
     "output_type": "stream",
     "text": [
      "Image Input Tests Passed.\n",
      "Label Input Tests Passed.\n",
      "Keep Prob Tests Passed.\n"
     ]
    }
   ],
   "source": [
    "import tensorflow as tf\n",
    "\n",
    "def neural_net_image_input(image_shape):\n",
    "    \"\"\"\n",
    "    Return a Tensor for a bach of image input\n",
    "    : image_shape: Shape of the images\n",
    "    : return: Tensor for image input.\n",
    "    \"\"\"\n",
    "    # TODO: Implement Function\n",
    "    image_shape = (None,) + image_shape\n",
    "    return tf.placeholder(\"float\", shape = image_shape, name = \"x\")\n",
    "\n",
    "def neural_net_label_input(n_classes):\n",
    "    \"\"\"\n",
    "    Return a Tensor for a batch of label input\n",
    "    : n_classes: Number of classes\n",
    "    : return: Tensor for label input.\n",
    "    \"\"\"\n",
    "    # TODO: Implement Function\n",
    "    \n",
    "    return tf.placeholder(tf.float32, shape = (None,n_classes), name = 'y')\n",
    "\n",
    "\n",
    "def neural_net_keep_prob_input():\n",
    "    \"\"\"\n",
    "    Return a Tensor for keep probability\n",
    "    : return: Tensor for keep probability.\n",
    "    \"\"\"\n",
    "    # TODO: Implement Function\n",
    "    return tf.placeholder(tf.float32, name = 'keep_prob')\n",
    "\n",
    "\n",
    "\"\"\"\n",
    "DON'T MODIFY ANYTHING IN THIS CELL THAT IS BELOW THIS LINE\n",
    "\"\"\"\n",
    "tf.reset_default_graph()\n",
    "tests.test_nn_image_inputs(neural_net_image_input)\n",
    "tests.test_nn_label_inputs(neural_net_label_input)\n",
    "tests.test_nn_keep_prob_inputs(neural_net_keep_prob_input)"
   ]
  },
  {
   "cell_type": "markdown",
   "metadata": {},
   "source": [
    "### Convolution and Max Pooling Layer\n",
    "Convolution layers have a lot of success with images. For this code cell, you should implement the function `conv2d_maxpool` to apply convolution then max pooling:\n",
    "* Create the weight and bias using `conv_ksize`, `conv_num_outputs` and the shape of `x_tensor`.\n",
    "* Apply a convolution to `x_tensor` using weight and `conv_strides`.\n",
    " * We recommend you use same padding, but you're welcome to use any padding.\n",
    "* Add bias\n",
    "* Add a nonlinear activation to the convolution.\n",
    "* Apply Max Pooling using `pool_ksize` and `pool_strides`.\n",
    " * We recommend you use same padding, but you're welcome to use any padding.\n",
    "\n",
    "Note: You **can't** use [TensorFlow Layers](https://www.tensorflow.org/api_docs/python/tf/layers) or [TensorFlow Layers (contrib)](https://www.tensorflow.org/api_guides/python/contrib.layers) for this layer.  You're free to use any TensorFlow package for all the other layers."
   ]
  },
  {
   "cell_type": "code",
   "execution_count": 53,
   "metadata": {
    "collapsed": false
   },
   "outputs": [
    {
     "name": "stdout",
     "output_type": "stream",
     "text": [
      "Tests Passed\n"
     ]
    }
   ],
   "source": [
    "def conv2d_maxpool(x_tensor, conv_num_outputs, conv_ksize, conv_strides, pool_ksize, pool_strides):\n",
    "    \"\"\"\n",
    "    Apply convolution then max pooling to x_tensor\n",
    "    :param x_tensor: TensorFlow Tensor\n",
    "    :param conv_num_outputs: Number of outputs for the convolutional layer\n",
    "    :param conv_strides: Stride 2-D Tuple for convolution\n",
    "    :param pool_ksize: kernal size 2-D Tuple for pool\n",
    "    :param pool_strides: Stride 2-D Tuple for pool\n",
    "    : return: A tensor that represents convolution and max pooling of x_tensor\n",
    "    \"\"\"\n",
    "    # TODO: Implement Function\n",
    "    \n",
    "    #getting the shape of the tensor\n",
    "    shape = x_tensor.get_shape()\n",
    "    shape = shape[-1]\n",
    "    shape = shape.value\n",
    "    \n",
    "    #created a list for the truncated normal weights\n",
    "    convli = list(conv_ksize)\n",
    "    convli.append(shape)\n",
    "    convli.append(conv_num_outputs)\n",
    "    \n",
    "    #create the convoluted strides and pool strides\n",
    "    conv_strides = (1,) + conv_strides +(1,)\n",
    "    conv_strides = list(conv_strides)\n",
    "    \n",
    "    pool_strides = (1,) + pool_strides + (1,)\n",
    "    pool_strides = list(pool_strides)\n",
    "    \n",
    "    #creating the pool size for max_pool\n",
    "    pool_ksize = (1,) + pool_ksize + (1,)\n",
    "    pool_ksize = list(pool_ksize)\n",
    "    #creating the weight and bias\n",
    "    weight = tf.Variable(tf.truncated_normal(convli, mean = 0, stddev = 0.1))\n",
    "    bias = tf.Variable(tf.zeros([conv_num_outputs]))\n",
    "    \n",
    "    #convolution network\n",
    "    conv = tf.nn.conv2d(x_tensor, weight, strides = conv_strides, padding=\"SAME\")\n",
    "    #adding the bias\n",
    "    conv = tf.nn.bias_add(conv, bias)\n",
    "    #adding relu activation\n",
    "    conv = tf.nn.relu(conv)\n",
    "    #adding max pooling\n",
    "    return tf.nn.max_pool(conv, pool_ksize, pool_strides, padding=\"SAME\")\n",
    "    \n",
    "    \n",
    "    \n",
    "\"\"\"\n",
    "DON'T MODIFY ANYTHING IN THIS CELL THAT IS BELOW THIS LINE\n",
    "\"\"\"\n",
    "tests.test_con_pool(conv2d_maxpool)"
   ]
  },
  {
   "cell_type": "markdown",
   "metadata": {},
   "source": [
    "### Flatten Layer\n",
    "Implement the `flatten` function to change the dimension of `x_tensor` from a 4-D tensor to a 2-D tensor.  The output should be the shape (*Batch Size*, *Flattened Image Size*). You can use [TensorFlow Layers](https://www.tensorflow.org/api_docs/python/tf/layers) or [TensorFlow Layers (contrib)](https://www.tensorflow.org/api_guides/python/contrib.layers) for this layer."
   ]
  },
  {
   "cell_type": "code",
   "execution_count": 11,
   "metadata": {
    "collapsed": false
   },
   "outputs": [
    {
     "name": "stdout",
     "output_type": "stream",
     "text": [
      "Tests Passed\n"
     ]
    }
   ],
   "source": [
    "def flatten(x_tensor):\n",
    "    \"\"\"\n",
    "    Flatten x_tensor to (Batch Size, Flattened Image Size)\n",
    "    : x_tensor: A tensor of size (Batch Size, ...), where ... are the image dimensions.\n",
    "    : return: A tensor of size (Batch Size, Flattened Image Size).\n",
    "    \"\"\"\n",
    "    # TODO: Implement Function\n",
    "    return tf.contrib.layers.flatten(x_tensor)\n",
    "\n",
    "\n",
    "\"\"\"\n",
    "DON'T MODIFY ANYTHING IN THIS CELL THAT IS BELOW THIS LINE\n",
    "\"\"\"\n",
    "tests.test_flatten(flatten)"
   ]
  },
  {
   "cell_type": "markdown",
   "metadata": {},
   "source": [
    "### Fully-Connected Layer\n",
    "Implement the `fully_conn` function to apply a fully connected layer to `x_tensor` with the shape (*Batch Size*, *num_outputs*). You can use [TensorFlow Layers](https://www.tensorflow.org/api_docs/python/tf/layers) or [TensorFlow Layers (contrib)](https://www.tensorflow.org/api_guides/python/contrib.layers) for this layer."
   ]
  },
  {
   "cell_type": "code",
   "execution_count": 15,
   "metadata": {
    "collapsed": false
   },
   "outputs": [
    {
     "name": "stdout",
     "output_type": "stream",
     "text": [
      "Tests Passed\n"
     ]
    }
   ],
   "source": [
    "def fully_conn(x_tensor, num_outputs):\n",
    "    \"\"\"\n",
    "    Apply a fully connected layer to x_tensor using weight and bias\n",
    "    : x_tensor: A 2-D tensor where the first dimension is batch size.\n",
    "    : num_outputs: The number of output that the new tensor should be.\n",
    "    : return: A 2-D tensor where the second dimension is num_outputs.\n",
    "    \"\"\"\n",
    "    # TODO: Implement Function\n",
    "    return tf.contrib.layers.fully_connected(x_tensor, num_outputs, activation_fn = tf.nn.relu)\n",
    "\n",
    "\n",
    "\"\"\"\n",
    "DON'T MODIFY ANYTHING IN THIS CELL THAT IS BELOW THIS LINE\n",
    "\"\"\"\n",
    "tests.test_fully_conn(fully_conn)"
   ]
  },
  {
   "cell_type": "markdown",
   "metadata": {},
   "source": [
    "### Output Layer\n",
    "Implement the `output` function to apply a fully connected layer to `x_tensor` with the shape (*Batch Size*, *num_outputs*). You can use [TensorFlow Layers](https://www.tensorflow.org/api_docs/python/tf/layers) or [TensorFlow Layers (contrib)](https://www.tensorflow.org/api_guides/python/contrib.layers) for this layer.\n",
    "\n",
    "Note: Activation, softmax, or cross entropy shouldn't be applied to this."
   ]
  },
  {
   "cell_type": "code",
   "execution_count": 16,
   "metadata": {
    "collapsed": false
   },
   "outputs": [
    {
     "name": "stdout",
     "output_type": "stream",
     "text": [
      "Tests Passed\n"
     ]
    }
   ],
   "source": [
    "def output(x_tensor, num_outputs):\n",
    "    \"\"\"\n",
    "    Apply a output layer to x_tensor using weight and bias\n",
    "    : x_tensor: A 2-D tensor where the first dimension is batch size.\n",
    "    : num_outputs: The number of output that the new tensor should be.\n",
    "    : return: A 2-D tensor where the second dimension is num_outputs.\n",
    "    \"\"\"\n",
    "    # TODO: Implement Function\n",
    "    return tf.contrib.layers.fully_connected(x_tensor, num_outputs, activation_fn = None)\n",
    "\n",
    "\"\"\"\n",
    "DON'T MODIFY ANYTHING IN THIS CELL THAT IS BELOW THIS LINE\n",
    "\"\"\"\n",
    "tests.test_output(output)"
   ]
  },
  {
   "cell_type": "markdown",
   "metadata": {},
   "source": [
    "### Create Convolutional Model\n",
    "Implement the function `conv_net` to create a convolutional neural network model. The function takes in a batch of images, `x`, and outputs logits.  Use the layers you created above to create this model:\n",
    "\n",
    "* Apply 1, 2, or 3 Convolution and Max Pool layers\n",
    "* Apply a Flatten Layer\n",
    "* Apply 1, 2, or 3 Fully Connected Layers\n",
    "* Apply an Output Layer\n",
    "* Return the output\n",
    "* Apply [TensorFlow's Dropout](https://www.tensorflow.org/api_docs/python/tf/nn/dropout) to one or more layers in the model using `keep_prob`. "
   ]
  },
  {
   "cell_type": "code",
   "execution_count": 75,
   "metadata": {
    "collapsed": false
   },
   "outputs": [
    {
     "name": "stdout",
     "output_type": "stream",
     "text": [
      "Neural Network Built!\n"
     ]
    }
   ],
   "source": [
    "def conv_net(x, keep_prob):\n",
    "    \"\"\"\n",
    "    Create a convolutional neural network model\n",
    "    : x: Placeholder tensor that holds image data.\n",
    "    : keep_prob: Placeholder tensor that hold dropout keep probability.\n",
    "    : return: Tensor that represents logits\n",
    "    \"\"\"\n",
    "    # TODO: Apply 1, 2, or 3 Convolution and Max Pool layers\n",
    "    #    Play around with different number of outputs, kernel size and stride\n",
    "    # Function Definition from Above:\n",
    "    #    conv2d_maxpool(x_tensor, conv_num_outputs, conv_ksize, conv_strides, pool_ksize, pool_strides)\n",
    "    #net = conv2d_maxpool(x, 64, (4,4), (2,2), (2,2), (2,2))\n",
    "    net = conv2d_maxpool(x, 64, (2,2), (2,2), (2,2), (2,2))\n",
    "    net = tf.nn.dropout(net, keep_prob)\n",
    "    net = conv2d_maxpool(x, 32, (2,2), (2,2), (2,2), (2,2))\n",
    "    #net = tf.nn.dropout(net, keep_prob)\n",
    "    net = conv2d_maxpool(x, 64, (2,2), (2,2), (2,2), (2,2))\n",
    "    \n",
    "    # TODO: Apply a Flatten Layer\n",
    "    # Function Definition from Above:\n",
    "    #   flatten(x_tensor)\n",
    "    net = flatten(net)\n",
    "\n",
    "    # TODO: Apply 1, 2, or 3 Fully Connected Layers\n",
    "    #    Play around with different number of outputs\n",
    "    # Function Definition from Above:\n",
    "    #   fully_conn(x_tensor, num_outputs)\n",
    "    net = fully_conn(net, 640)\n",
    "    net = fully_conn(net, 1280)\n",
    "    \n",
    "    \n",
    "    # TODO: Apply an Output Layer\n",
    "    #    Set this to the number of classes\n",
    "    # Function Definition from Above:\n",
    "    #   output(x_tensor, num_outputs)\n",
    "    logit = output(net, 10)\n",
    "    \n",
    "    # TODO: return output\n",
    "    return logit\n",
    "\n",
    "\n",
    "\"\"\"\n",
    "DON'T MODIFY ANYTHING IN THIS CELL THAT IS BELOW THIS LINE\n",
    "\"\"\"\n",
    "\n",
    "##############################\n",
    "## Build the Neural Network ##\n",
    "##############################\n",
    "\n",
    "# Remove previous weights, bias, inputs, etc..\n",
    "tf.reset_default_graph()\n",
    "\n",
    "# Inputs\n",
    "x = neural_net_image_input((32, 32, 3))\n",
    "y = neural_net_label_input(10)\n",
    "keep_prob = neural_net_keep_prob_input()\n",
    "\n",
    "# Model\n",
    "logits = conv_net(x, keep_prob)\n",
    "\n",
    "# Name logits Tensor, so that is can be loaded from disk after training\n",
    "logits = tf.identity(logits, name='logits')\n",
    "\n",
    "# Loss and Optimizer\n",
    "cost = tf.reduce_mean(tf.nn.softmax_cross_entropy_with_logits(logits=logits, labels=y))\n",
    "optimizer = tf.train.AdamOptimizer().minimize(cost)\n",
    "\n",
    "# Accuracy\n",
    "correct_pred = tf.equal(tf.argmax(logits, 1), tf.argmax(y, 1))\n",
    "accuracy = tf.reduce_mean(tf.cast(correct_pred, tf.float32), name='accuracy')\n",
    "\n",
    "tests.test_conv_net(conv_net)"
   ]
  },
  {
   "cell_type": "markdown",
   "metadata": {},
   "source": [
    "## Train the Neural Network\n",
    "### Single Optimization\n",
    "Implement the function `train_neural_network` to do a single optimization.  The optimization should use `optimizer` to optimize in `session` with a `feed_dict` of the following:\n",
    "* `x` for image input\n",
    "* `y` for labels\n",
    "* `keep_prob` for keep probability for dropout\n",
    "\n",
    "This function will be called for each batch, so `tf.global_variables_initializer()` has already been called.\n",
    "\n",
    "Note: Nothing needs to be returned. This function is only optimizing the neural network."
   ]
  },
  {
   "cell_type": "code",
   "execution_count": 23,
   "metadata": {
    "collapsed": false
   },
   "outputs": [
    {
     "name": "stdout",
     "output_type": "stream",
     "text": [
      "Tests Passed\n"
     ]
    }
   ],
   "source": [
    "def train_neural_network(session, optimizer, keep_probability, feature_batch, label_batch):\n",
    "    \"\"\"\n",
    "    Optimize the session on a batch of images and labels\n",
    "    : session: Current TensorFlow session\n",
    "    : optimizer: TensorFlow optimizer function\n",
    "    : keep_probability: keep probability\n",
    "    : feature_batch: Batch of Numpy image data\n",
    "    : label_batch: Batch of Numpy label data\n",
    "    \"\"\"\n",
    "    # TODO: Implement Function\n",
    "    session.run(optimizer, feed_dict = {x: feature_batch, y: label_batch, keep_prob: keep_probability})\n",
    "\n",
    "\"\"\"\n",
    "DON'T MODIFY ANYTHING IN THIS CELL THAT IS BELOW THIS LINE\n",
    "\"\"\"\n",
    "tests.test_train_nn(train_neural_network)"
   ]
  },
  {
   "cell_type": "markdown",
   "metadata": {},
   "source": [
    "### Show Stats\n",
    "Implement the function `print_stats` to print loss and validation accuracy.  Use the global variables `valid_features` and `valid_labels` to calculate validation accuracy.  Use a keep probability of `1.0` to calculate the loss and validation accuracy."
   ]
  },
  {
   "cell_type": "code",
   "execution_count": 25,
   "metadata": {
    "collapsed": false
   },
   "outputs": [],
   "source": [
    "def print_stats(session, feature_batch, label_batch, cost, accuracy):\n",
    "    \"\"\"\n",
    "    Print information about loss and validation accuracy\n",
    "    : session: Current TensorFlow session\n",
    "    : feature_batch: Batch of Numpy image data\n",
    "    : label_batch: Batch of Numpy label data\n",
    "    : cost: TensorFlow cost function\n",
    "    : accuracy: TensorFlow accuracy function\n",
    "    \"\"\"\n",
    "    loss = session.run(cost, feed_dict = {x: feature_batch, y: label_batch, keep_prob: 1.0})\n",
    "    accuracy = session.run(accuracy, feed_dict = {x: valid_features, y: valid_labels, keep_prob: 1.0})\n",
    "    print(\"The loss is {} and the accuracy is {}\".format(loss, accuracy))"
   ]
  },
  {
   "cell_type": "markdown",
   "metadata": {},
   "source": [
    "### Hyperparameters\n",
    "Tune the following parameters:\n",
    "* Set `epochs` to the number of iterations until the network stops learning or start overfitting\n",
    "* Set `batch_size` to the highest number that your machine has memory for.  Most people set them to common sizes of memory:\n",
    " * 64\n",
    " * 128\n",
    " * 256\n",
    " * ...\n",
    "* Set `keep_probability` to the probability of keeping a node using dropout"
   ]
  },
  {
   "cell_type": "code",
   "execution_count": 77,
   "metadata": {
    "collapsed": true
   },
   "outputs": [],
   "source": [
    "# TODO: Tune Parameters\n",
    "epochs = 25\n",
    "batch_size = 512\n",
    "keep_probability = .07"
   ]
  },
  {
   "cell_type": "markdown",
   "metadata": {},
   "source": [
    "### Train on a Single CIFAR-10 Batch\n",
    "Instead of training the neural network on all the CIFAR-10 batches of data, let's use a single batch. This should save time while you iterate on the model to get a better accuracy.  Once the final validation accuracy is 50% or greater, run the model on all the data in the next section."
   ]
  },
  {
   "cell_type": "code",
   "execution_count": 78,
   "metadata": {
    "collapsed": false
   },
   "outputs": [
    {
     "name": "stdout",
     "output_type": "stream",
     "text": [
      "Checking the Training on a Single Batch...\n",
      "Epoch  1, CIFAR-10 Batch 1:  The loss is 2.0217087268829346 and the accuracy is 0.27720001339912415\n",
      "Epoch  2, CIFAR-10 Batch 1:  The loss is 1.7890031337738037 and the accuracy is 0.37220001220703125\n",
      "Epoch  3, CIFAR-10 Batch 1:  The loss is 1.640438437461853 and the accuracy is 0.41119998693466187\n",
      "Epoch  4, CIFAR-10 Batch 1:  The loss is 1.530431866645813 and the accuracy is 0.45899999141693115\n",
      "Epoch  5, CIFAR-10 Batch 1:  The loss is 1.4329471588134766 and the accuracy is 0.4867999851703644\n",
      "Epoch  6, CIFAR-10 Batch 1:  The loss is 1.3438341617584229 and the accuracy is 0.49720001220703125\n",
      "Epoch  7, CIFAR-10 Batch 1:  The loss is 1.2526185512542725 and the accuracy is 0.5131999850273132\n",
      "Epoch  8, CIFAR-10 Batch 1:  The loss is 1.1701422929763794 and the accuracy is 0.521399974822998\n",
      "Epoch  9, CIFAR-10 Batch 1:  The loss is 1.1012176275253296 and the accuracy is 0.5266000032424927\n",
      "Epoch 10, CIFAR-10 Batch 1:  The loss is 1.042556643486023 and the accuracy is 0.5235999822616577\n",
      "Epoch 11, CIFAR-10 Batch 1:  The loss is 0.9767468571662903 and the accuracy is 0.532800018787384\n",
      "Epoch 12, CIFAR-10 Batch 1:  The loss is 0.8965333700180054 and the accuracy is 0.5392000079154968\n",
      "Epoch 13, CIFAR-10 Batch 1:  The loss is 0.8510457873344421 and the accuracy is 0.5460000038146973\n",
      "Epoch 14, CIFAR-10 Batch 1:  The loss is 0.8366562128067017 and the accuracy is 0.5386000275611877\n",
      "Epoch 15, CIFAR-10 Batch 1:  The loss is 0.7971435785293579 and the accuracy is 0.5428000092506409\n",
      "Epoch 16, CIFAR-10 Batch 1:  The loss is 0.7425264716148376 and the accuracy is 0.5414000153541565\n",
      "Epoch 17, CIFAR-10 Batch 1:  The loss is 0.6612188220024109 and the accuracy is 0.5514000058174133\n",
      "Epoch 18, CIFAR-10 Batch 1:  The loss is 0.597953200340271 and the accuracy is 0.5558000206947327\n",
      "Epoch 19, CIFAR-10 Batch 1:  The loss is 0.6033869385719299 and the accuracy is 0.5365999937057495\n",
      "Epoch 20, CIFAR-10 Batch 1:  The loss is 0.5670658349990845 and the accuracy is 0.5461999773979187\n",
      "Epoch 21, CIFAR-10 Batch 1:  The loss is 0.553946852684021 and the accuracy is 0.5365999937057495\n",
      "Epoch 22, CIFAR-10 Batch 1:  The loss is 0.45680490136146545 and the accuracy is 0.5622000098228455\n",
      "Epoch 23, CIFAR-10 Batch 1:  The loss is 0.408090740442276 and the accuracy is 0.5687999725341797\n",
      "Epoch 24, CIFAR-10 Batch 1:  The loss is 0.3588981628417969 and the accuracy is 0.5663999915122986\n",
      "Epoch 25, CIFAR-10 Batch 1:  The loss is 0.32258445024490356 and the accuracy is 0.5662000179290771\n"
     ]
    }
   ],
   "source": [
    "\"\"\"\n",
    "DON'T MODIFY ANYTHING IN THIS CELL\n",
    "\"\"\"\n",
    "print('Checking the Training on a Single Batch...')\n",
    "with tf.Session() as sess:\n",
    "    # Initializing the variables\n",
    "    sess.run(tf.global_variables_initializer())\n",
    "    \n",
    "    # Training cycle\n",
    "    for epoch in range(epochs):\n",
    "        batch_i = 1\n",
    "        for batch_features, batch_labels in helper.load_preprocess_training_batch(batch_i, batch_size):\n",
    "            train_neural_network(sess, optimizer, keep_probability, batch_features, batch_labels)\n",
    "        print('Epoch {:>2}, CIFAR-10 Batch {}:  '.format(epoch + 1, batch_i), end='')\n",
    "        print_stats(sess, batch_features, batch_labels, cost, accuracy)"
   ]
  },
  {
   "cell_type": "markdown",
   "metadata": {},
   "source": [
    "### Fully Train the Model\n",
    "Now that you got a good accuracy with a single CIFAR-10 batch, try it with all five batches."
   ]
  },
  {
   "cell_type": "code",
   "execution_count": 79,
   "metadata": {
    "collapsed": false
   },
   "outputs": [
    {
     "name": "stdout",
     "output_type": "stream",
     "text": [
      "Training...\n",
      "Epoch  1, CIFAR-10 Batch 1:  The loss is 1.9195367097854614 and the accuracy is 0.31139999628067017\n",
      "Epoch  1, CIFAR-10 Batch 2:  The loss is 1.6048815250396729 and the accuracy is 0.4020000100135803\n",
      "Epoch  1, CIFAR-10 Batch 3:  The loss is 1.4160031080245972 and the accuracy is 0.4016000032424927\n",
      "Epoch  1, CIFAR-10 Batch 4:  The loss is 1.3816150426864624 and the accuracy is 0.46459999680519104\n",
      "Epoch  1, CIFAR-10 Batch 5:  The loss is 1.3763835430145264 and the accuracy is 0.498199999332428\n",
      "Epoch  2, CIFAR-10 Batch 1:  The loss is 1.3965855836868286 and the accuracy is 0.5063999891281128\n",
      "Epoch  2, CIFAR-10 Batch 2:  The loss is 1.2110072374343872 and the accuracy is 0.5299999713897705\n",
      "Epoch  2, CIFAR-10 Batch 3:  The loss is 1.1345447301864624 and the accuracy is 0.5315999984741211\n",
      "Epoch  2, CIFAR-10 Batch 4:  The loss is 1.1333200931549072 and the accuracy is 0.5425999760627747\n",
      "Epoch  2, CIFAR-10 Batch 5:  The loss is 1.1681163311004639 and the accuracy is 0.5618000030517578\n",
      "Epoch  3, CIFAR-10 Batch 1:  The loss is 1.2188667058944702 and the accuracy is 0.5609999895095825\n",
      "Epoch  3, CIFAR-10 Batch 2:  The loss is 1.0607547760009766 and the accuracy is 0.5577999949455261\n",
      "Epoch  3, CIFAR-10 Batch 3:  The loss is 0.9987716674804688 and the accuracy is 0.5784000158309937\n",
      "Epoch  3, CIFAR-10 Batch 4:  The loss is 0.9666828513145447 and the accuracy is 0.5910000205039978\n",
      "Epoch  3, CIFAR-10 Batch 5:  The loss is 1.0149290561676025 and the accuracy is 0.592199981212616\n",
      "Epoch  4, CIFAR-10 Batch 1:  The loss is 1.0794755220413208 and the accuracy is 0.592199981212616\n",
      "Epoch  4, CIFAR-10 Batch 2:  The loss is 0.9454458951950073 and the accuracy is 0.5852000117301941\n",
      "Epoch  4, CIFAR-10 Batch 3:  The loss is 0.9046626687049866 and the accuracy is 0.5992000102996826\n",
      "Epoch  4, CIFAR-10 Batch 4:  The loss is 0.8693666458129883 and the accuracy is 0.6115999817848206\n",
      "Epoch  4, CIFAR-10 Batch 5:  The loss is 0.8926193714141846 and the accuracy is 0.6168000102043152\n",
      "Epoch  5, CIFAR-10 Batch 1:  The loss is 0.9823072552680969 and the accuracy is 0.6078000068664551\n",
      "Epoch  5, CIFAR-10 Batch 2:  The loss is 0.8479059338569641 and the accuracy is 0.605400025844574\n",
      "Epoch  5, CIFAR-10 Batch 3:  The loss is 0.7973436713218689 and the accuracy is 0.6133999824523926\n",
      "Epoch  5, CIFAR-10 Batch 4:  The loss is 0.7787753343582153 and the accuracy is 0.6273999810218811\n",
      "Epoch  5, CIFAR-10 Batch 5:  The loss is 0.8029170632362366 and the accuracy is 0.6294000148773193\n",
      "Epoch  6, CIFAR-10 Batch 1:  The loss is 0.8784188032150269 and the accuracy is 0.6195999979972839\n",
      "Epoch  6, CIFAR-10 Batch 2:  The loss is 0.7503382563591003 and the accuracy is 0.6172000169754028\n",
      "Epoch  6, CIFAR-10 Batch 3:  The loss is 0.7031251788139343 and the accuracy is 0.6254000067710876\n",
      "Epoch  6, CIFAR-10 Batch 4:  The loss is 0.7012078762054443 and the accuracy is 0.6358000040054321\n",
      "Epoch  6, CIFAR-10 Batch 5:  The loss is 0.7327249646186829 and the accuracy is 0.6309999823570251\n",
      "Epoch  7, CIFAR-10 Batch 1:  The loss is 0.7830235958099365 and the accuracy is 0.6349999904632568\n",
      "Epoch  7, CIFAR-10 Batch 2:  The loss is 0.6710568070411682 and the accuracy is 0.6281999945640564\n",
      "Epoch  7, CIFAR-10 Batch 3:  The loss is 0.6250662803649902 and the accuracy is 0.6326000094413757\n",
      "Epoch  7, CIFAR-10 Batch 4:  The loss is 0.6348243355751038 and the accuracy is 0.6349999904632568\n",
      "Epoch  7, CIFAR-10 Batch 5:  The loss is 0.6641767621040344 and the accuracy is 0.6358000040054321\n",
      "Epoch  8, CIFAR-10 Batch 1:  The loss is 0.7006124258041382 and the accuracy is 0.6363999843597412\n",
      "Epoch  8, CIFAR-10 Batch 2:  The loss is 0.6056719422340393 and the accuracy is 0.6255999803543091\n",
      "Epoch  8, CIFAR-10 Batch 3:  The loss is 0.5665669441223145 and the accuracy is 0.6363999843597412\n",
      "Epoch  8, CIFAR-10 Batch 4:  The loss is 0.5840230584144592 and the accuracy is 0.6277999877929688\n",
      "Epoch  8, CIFAR-10 Batch 5:  The loss is 0.5884160399436951 and the accuracy is 0.6344000101089478\n",
      "Epoch  9, CIFAR-10 Batch 1:  The loss is 0.6232025623321533 and the accuracy is 0.6435999870300293\n",
      "Epoch  9, CIFAR-10 Batch 2:  The loss is 0.5717191100120544 and the accuracy is 0.604200005531311\n",
      "Epoch  9, CIFAR-10 Batch 3:  The loss is 0.4947025179862976 and the accuracy is 0.6420000195503235\n",
      "Epoch  9, CIFAR-10 Batch 4:  The loss is 0.533009946346283 and the accuracy is 0.6355999708175659\n",
      "Epoch  9, CIFAR-10 Batch 5:  The loss is 0.49198150634765625 and the accuracy is 0.6366000175476074\n",
      "Epoch 10, CIFAR-10 Batch 1:  The loss is 0.5412437915802002 and the accuracy is 0.642799973487854\n",
      "Epoch 10, CIFAR-10 Batch 2:  The loss is 0.5280812382698059 and the accuracy is 0.6154000163078308\n",
      "Epoch 10, CIFAR-10 Batch 3:  The loss is 0.4557165801525116 and the accuracy is 0.6355999708175659\n",
      "Epoch 10, CIFAR-10 Batch 4:  The loss is 0.44504496455192566 and the accuracy is 0.6449999809265137\n",
      "Epoch 10, CIFAR-10 Batch 5:  The loss is 0.3995650112628937 and the accuracy is 0.6452000141143799\n",
      "Epoch 11, CIFAR-10 Batch 1:  The loss is 0.4655973017215729 and the accuracy is 0.6453999876976013\n",
      "Epoch 11, CIFAR-10 Batch 2:  The loss is 0.41866037249565125 and the accuracy is 0.6330000162124634\n",
      "Epoch 11, CIFAR-10 Batch 3:  The loss is 0.39298686385154724 and the accuracy is 0.6353999972343445\n",
      "Epoch 11, CIFAR-10 Batch 4:  The loss is 0.36255699396133423 and the accuracy is 0.6444000005722046\n",
      "Epoch 11, CIFAR-10 Batch 5:  The loss is 0.3721531331539154 and the accuracy is 0.6304000020027161\n",
      "Epoch 12, CIFAR-10 Batch 1:  The loss is 0.41511401534080505 and the accuracy is 0.6348000168800354\n",
      "Epoch 12, CIFAR-10 Batch 2:  The loss is 0.4664193093776703 and the accuracy is 0.6195999979972839\n",
      "Epoch 12, CIFAR-10 Batch 3:  The loss is 0.36568596959114075 and the accuracy is 0.6380000114440918\n",
      "Epoch 12, CIFAR-10 Batch 4:  The loss is 0.3681240975856781 and the accuracy is 0.6266000270843506\n",
      "Epoch 12, CIFAR-10 Batch 5:  The loss is 0.3581010699272156 and the accuracy is 0.6330000162124634\n",
      "Epoch 13, CIFAR-10 Batch 1:  The loss is 0.43999263644218445 and the accuracy is 0.6133999824523926\n",
      "Epoch 13, CIFAR-10 Batch 2:  The loss is 0.40002116560935974 and the accuracy is 0.6204000115394592\n",
      "Epoch 13, CIFAR-10 Batch 3:  The loss is 0.3052338659763336 and the accuracy is 0.6452000141143799\n",
      "Epoch 13, CIFAR-10 Batch 4:  The loss is 0.27363044023513794 and the accuracy is 0.6431999802589417\n",
      "Epoch 13, CIFAR-10 Batch 5:  The loss is 0.3253055512905121 and the accuracy is 0.6176000237464905\n",
      "Epoch 14, CIFAR-10 Batch 1:  The loss is 0.3787342607975006 and the accuracy is 0.6168000102043152\n",
      "Epoch 14, CIFAR-10 Batch 2:  The loss is 0.34112539887428284 and the accuracy is 0.6245999932289124\n",
      "Epoch 14, CIFAR-10 Batch 3:  The loss is 0.24244502186775208 and the accuracy is 0.6466000080108643\n",
      "Epoch 14, CIFAR-10 Batch 4:  The loss is 0.22305254638195038 and the accuracy is 0.649399995803833\n",
      "Epoch 14, CIFAR-10 Batch 5:  The loss is 0.24438491463661194 and the accuracy is 0.6312000155448914\n",
      "Epoch 15, CIFAR-10 Batch 1:  The loss is 0.31471508741378784 and the accuracy is 0.6187999844551086\n",
      "Epoch 15, CIFAR-10 Batch 2:  The loss is 0.261184960603714 and the accuracy is 0.6355999708175659\n",
      "Epoch 15, CIFAR-10 Batch 3:  The loss is 0.20041882991790771 and the accuracy is 0.6435999870300293\n",
      "Epoch 15, CIFAR-10 Batch 4:  The loss is 0.21215961873531342 and the accuracy is 0.629800021648407\n",
      "Epoch 15, CIFAR-10 Batch 5:  The loss is 0.2096048891544342 and the accuracy is 0.6323999762535095\n",
      "Epoch 16, CIFAR-10 Batch 1:  The loss is 0.30048075318336487 and the accuracy is 0.61080002784729\n",
      "Epoch 16, CIFAR-10 Batch 2:  The loss is 0.24707482755184174 and the accuracy is 0.6312000155448914\n",
      "Epoch 16, CIFAR-10 Batch 3:  The loss is 0.1811952143907547 and the accuracy is 0.6417999863624573\n",
      "Epoch 16, CIFAR-10 Batch 4:  The loss is 0.21053539216518402 and the accuracy is 0.6064000129699707\n",
      "Epoch 16, CIFAR-10 Batch 5:  The loss is 0.18614782392978668 and the accuracy is 0.6323999762535095\n",
      "Epoch 17, CIFAR-10 Batch 1:  The loss is 0.3281404972076416 and the accuracy is 0.5910000205039978\n",
      "Epoch 17, CIFAR-10 Batch 2:  The loss is 0.2563854455947876 and the accuracy is 0.6123999953269958\n",
      "Epoch 17, CIFAR-10 Batch 3:  The loss is 0.18305549025535583 and the accuracy is 0.6338000297546387\n",
      "Epoch 17, CIFAR-10 Batch 4:  The loss is 0.19186320900917053 and the accuracy is 0.6128000020980835\n",
      "Epoch 17, CIFAR-10 Batch 5:  The loss is 0.19278207421302795 and the accuracy is 0.6227999925613403\n",
      "Epoch 18, CIFAR-10 Batch 1:  The loss is 0.28396597504615784 and the accuracy is 0.6055999994277954\n",
      "Epoch 18, CIFAR-10 Batch 2:  The loss is 0.19740545749664307 and the accuracy is 0.6222000122070312\n",
      "Epoch 18, CIFAR-10 Batch 3:  The loss is 0.15722687542438507 and the accuracy is 0.633400022983551\n",
      "Epoch 18, CIFAR-10 Batch 4:  The loss is 0.16553816199302673 and the accuracy is 0.6083999872207642\n",
      "Epoch 18, CIFAR-10 Batch 5:  The loss is 0.2314189374446869 and the accuracy is 0.6050000190734863\n",
      "Epoch 19, CIFAR-10 Batch 1:  The loss is 0.19366934895515442 and the accuracy is 0.618399977684021\n",
      "Epoch 19, CIFAR-10 Batch 2:  The loss is 0.142329603433609 and the accuracy is 0.640999972820282\n",
      "Epoch 19, CIFAR-10 Batch 3:  The loss is 0.09003259986639023 and the accuracy is 0.6484000086784363\n",
      "Epoch 19, CIFAR-10 Batch 4:  The loss is 0.12730422616004944 and the accuracy is 0.6168000102043152\n",
      "Epoch 19, CIFAR-10 Batch 5:  The loss is 0.16730046272277832 and the accuracy is 0.6218000054359436\n",
      "Epoch 20, CIFAR-10 Batch 1:  The loss is 0.15857398509979248 and the accuracy is 0.6277999877929688\n",
      "Epoch 20, CIFAR-10 Batch 2:  The loss is 0.12646155059337616 and the accuracy is 0.6281999945640564\n",
      "Epoch 20, CIFAR-10 Batch 3:  The loss is 0.09235833585262299 and the accuracy is 0.640999972820282\n",
      "Epoch 20, CIFAR-10 Batch 4:  The loss is 0.15083403885364532 and the accuracy is 0.5884000062942505\n",
      "Epoch 20, CIFAR-10 Batch 5:  The loss is 0.18025267124176025 and the accuracy is 0.5932000279426575\n",
      "Epoch 21, CIFAR-10 Batch 1:  The loss is 0.15554559230804443 and the accuracy is 0.618399977684021\n",
      "Epoch 21, CIFAR-10 Batch 2:  The loss is 0.19922661781311035 and the accuracy is 0.5902000069618225\n",
      "Epoch 21, CIFAR-10 Batch 3:  The loss is 0.08495311439037323 and the accuracy is 0.6430000066757202\n",
      "Epoch 21, CIFAR-10 Batch 4:  The loss is 0.08687827736139297 and the accuracy is 0.6051999926567078\n",
      "Epoch 21, CIFAR-10 Batch 5:  The loss is 0.08756003528833389 and the accuracy is 0.6200000047683716\n",
      "Epoch 22, CIFAR-10 Batch 1:  The loss is 0.10196242481470108 and the accuracy is 0.6233999729156494\n",
      "Epoch 22, CIFAR-10 Batch 2:  The loss is 0.09393008053302765 and the accuracy is 0.6302000284194946\n",
      "Epoch 22, CIFAR-10 Batch 3:  The loss is 0.08182094991207123 and the accuracy is 0.6480000019073486\n",
      "Epoch 22, CIFAR-10 Batch 4:  The loss is 0.13650164008140564 and the accuracy is 0.5867999792098999\n",
      "Epoch 22, CIFAR-10 Batch 5:  The loss is 0.08801458030939102 and the accuracy is 0.6244000196456909\n",
      "Epoch 23, CIFAR-10 Batch 1:  The loss is 0.11511890590190887 and the accuracy is 0.6327999830245972\n",
      "Epoch 23, CIFAR-10 Batch 2:  The loss is 0.12468831241130829 and the accuracy is 0.6155999898910522\n",
      "Epoch 23, CIFAR-10 Batch 3:  The loss is 0.09904269874095917 and the accuracy is 0.625\n",
      "Epoch 23, CIFAR-10 Batch 4:  The loss is 0.14085236191749573 and the accuracy is 0.5910000205039978\n",
      "Epoch 23, CIFAR-10 Batch 5:  The loss is 0.12737658619880676 and the accuracy is 0.6186000108718872\n",
      "Epoch 24, CIFAR-10 Batch 1:  The loss is 0.11773868650197983 and the accuracy is 0.6326000094413757\n",
      "Epoch 24, CIFAR-10 Batch 2:  The loss is 0.06503813713788986 and the accuracy is 0.6395999789237976\n",
      "Epoch 24, CIFAR-10 Batch 3:  The loss is 0.09154267609119415 and the accuracy is 0.6168000102043152\n",
      "Epoch 24, CIFAR-10 Batch 4:  The loss is 0.09733328968286514 and the accuracy is 0.6018000245094299\n",
      "Epoch 24, CIFAR-10 Batch 5:  The loss is 0.17311419546604156 and the accuracy is 0.5952000021934509\n",
      "Epoch 25, CIFAR-10 Batch 1:  The loss is 0.11059258133172989 and the accuracy is 0.6295999884605408\n",
      "Epoch 25, CIFAR-10 Batch 2:  The loss is 0.054918985813856125 and the accuracy is 0.6317999958992004\n",
      "Epoch 25, CIFAR-10 Batch 3:  The loss is 0.034544579684734344 and the accuracy is 0.646399974822998\n",
      "Epoch 25, CIFAR-10 Batch 4:  The loss is 0.06396256387233734 and the accuracy is 0.6155999898910522\n",
      "Epoch 25, CIFAR-10 Batch 5:  The loss is 0.10373490303754807 and the accuracy is 0.6132000088691711\n"
     ]
    }
   ],
   "source": [
    "\"\"\"\n",
    "DON'T MODIFY ANYTHING IN THIS CELL\n",
    "\"\"\"\n",
    "save_model_path = './image_classification'\n",
    "\n",
    "print('Training...')\n",
    "with tf.Session() as sess:\n",
    "    # Initializing the variables\n",
    "    sess.run(tf.global_variables_initializer())\n",
    "    \n",
    "    # Training cycle\n",
    "    for epoch in range(epochs):\n",
    "        # Loop over all batches\n",
    "        n_batches = 5\n",
    "        for batch_i in range(1, n_batches + 1):\n",
    "            for batch_features, batch_labels in helper.load_preprocess_training_batch(batch_i, batch_size):\n",
    "                train_neural_network(sess, optimizer, keep_probability, batch_features, batch_labels)\n",
    "            print('Epoch {:>2}, CIFAR-10 Batch {}:  '.format(epoch + 1, batch_i), end='')\n",
    "            print_stats(sess, batch_features, batch_labels, cost, accuracy)\n",
    "            \n",
    "    # Save Model\n",
    "    saver = tf.train.Saver()\n",
    "    save_path = saver.save(sess, save_model_path)"
   ]
  },
  {
   "cell_type": "markdown",
   "metadata": {},
   "source": [
    "# Checkpoint\n",
    "The model has been saved to disk.\n",
    "## Test Model\n",
    "Test your model against the test dataset.  This will be your final accuracy. You should have an accuracy greater than 50%. If you don't, keep tweaking the model architecture and parameters."
   ]
  },
  {
   "cell_type": "code",
   "execution_count": 80,
   "metadata": {
    "collapsed": false
   },
   "outputs": [
    {
     "name": "stdout",
     "output_type": "stream",
     "text": [
      "Testing Accuracy: 0.6087431073188782\n",
      "\n"
     ]
    },
    {
     "data": {
      "image/png": "[encoded data removed]",
      "text/plain": [
       "<matplotlib.figure.Figure at 0x16d00919358>"
      ]
     },
     "metadata": {
      "image/png": {
       "height": 319,
       "width": 355
      }
     },
     "output_type": "display_data"
    }
   ],
   "source": [
    "\"\"\"\n",
    "DON'T MODIFY ANYTHING IN THIS CELL\n",
    "\"\"\"\n",
    "%matplotlib inline\n",
    "%config InlineBackend.figure_format = 'retina'\n",
    "\n",
    "import tensorflow as tf\n",
    "import pickle\n",
    "import helper\n",
    "import random\n",
    "\n",
    "# Set batch size if not already set\n",
    "try:\n",
    "    if batch_size:\n",
    "        pass\n",
    "except NameError:\n",
    "    batch_size = 64\n",
    "\n",
    "save_model_path = './image_classification'\n",
    "n_samples = 4\n",
    "top_n_predictions = 3\n",
    "\n",
    "def test_model():\n",
    "    \"\"\"\n",
    "    Test the saved model against the test dataset\n",
    "    \"\"\"\n",
    "\n",
    "    test_features, test_labels = pickle.load(open('preprocess_training.p', mode='rb'))\n",
    "    loaded_graph = tf.Graph()\n",
    "\n",
    "    with tf.Session(graph=loaded_graph) as sess:\n",
    "        # Load model\n",
    "        loader = tf.train.import_meta_graph(save_model_path + '.meta')\n",
    "        loader.restore(sess, save_model_path)\n",
    "\n",
    "        # Get Tensors from loaded model\n",
    "        loaded_x = loaded_graph.get_tensor_by_name('x:0')\n",
    "        loaded_y = loaded_graph.get_tensor_by_name('y:0')\n",
    "        loaded_keep_prob = loaded_graph.get_tensor_by_name('keep_prob:0')\n",
    "        loaded_logits = loaded_graph.get_tensor_by_name('logits:0')\n",
    "        loaded_acc = loaded_graph.get_tensor_by_name('accuracy:0')\n",
    "        \n",
    "        # Get accuracy in batches for memory limitations\n",
    "        test_batch_acc_total = 0\n",
    "        test_batch_count = 0\n",
    "        \n",
    "        for train_feature_batch, train_label_batch in helper.batch_features_labels(test_features, test_labels, batch_size):\n",
    "            test_batch_acc_total += sess.run(\n",
    "                loaded_acc,\n",
    "                feed_dict={loaded_x: train_feature_batch, loaded_y: train_label_batch, loaded_keep_prob: 1.0})\n",
    "            test_batch_count += 1\n",
    "\n",
    "        print('Testing Accuracy: {}\\n'.format(test_batch_acc_total/test_batch_count))\n",
    "\n",
    "        # Print Random Samples\n",
    "        random_test_features, random_test_labels = tuple(zip(*random.sample(list(zip(test_features, test_labels)), n_samples)))\n",
    "        random_test_predictions = sess.run(\n",
    "            tf.nn.top_k(tf.nn.softmax(loaded_logits), top_n_predictions),\n",
    "            feed_dict={loaded_x: random_test_features, loaded_y: random_test_labels, loaded_keep_prob: 1.0})\n",
    "        helper.display_image_predictions(random_test_features, random_test_labels, random_test_predictions)\n",
    "\n",
    "\n",
    "test_model()"
   ]
  },
  {
   "cell_type": "markdown",
   "metadata": {},
   "source": [
    "## Why 50-70% Accuracy?\n",
    "You might be wondering why you can't get an accuracy any higher. First things first, 50% isn't bad for a simple CNN.  Pure guessing would get you 10% accuracy. However, you might notice people are getting scores [well above 70%](http://rodrigob.github.io/are_we_there_yet/build/classification_datasets_results.html#43494641522d3130).  That's because we haven't taught you all there is to know about neural networks. We still need to cover a few more techniques.\n",
    "## Submitting This Project\n",
    "When submitting this project, make sure to run all the cells before saving the notebook.  Save the notebook file as \"dlnd_image_classification.ipynb\" and save it as a HTML file under \"File\" -> \"Download as\".  Include the \"helper.py\" and \"problem_unittests.py\" files in your submission."
   ]
  }
 ],
 "metadata": {
  "kernelspec": {
   "display_name": "Python 3",
   "language": "python",
   "name": "python3"
  },
  "language_info": {
   "codemirror_mode": {
    "name": "ipython",
    "version": 3
   },
   "file_extension": ".py",
   "mimetype": "text/x-python",
   "name": "python",
   "nbconvert_exporter": "python",
   "pygments_lexer": "ipython3",
   "version": "3.5.2"
  },
  "widgets": {
   "state": {},
   "version": "1.1.2"
  }
 },
 "nbformat": 4,
 "nbformat_minor": 0
}
